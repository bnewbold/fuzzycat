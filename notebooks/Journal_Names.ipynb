{
 "cells": [
  {
   "cell_type": "markdown",
   "metadata": {},
   "source": [
    "# Journal Names\n",
    "\n",
    "Questions in the context of fuzzy matching.\n",
    "\n",
    "* How many journal names appear more than once?\n",
    "* What is the average length of the duplicated names vs the unique names?\n",
    "\n",
    "\n",
    "Input file is a single larger JSON, mapping names to issns.\n",
    "```json\n",
    "{\n",
    "  \"Acta Orientalia.\": [\n",
    "    \"0001-6438\"\n",
    "  ],\n",
    "  \"Acta Orientalia (København)\": [\n",
    "    \"0001-6438\"\n",
    "  ],\n",
    "..\n",
    "```"
   ]
  },
  {
   "cell_type": "code",
   "execution_count": 62,
   "metadata": {},
   "outputs": [],
   "source": [
    "import json\n",
    "import pandas as pd"
   ]
  },
  {
   "cell_type": "code",
   "execution_count": 63,
   "metadata": {},
   "outputs": [],
   "source": [
    "with open(\"../data/name_to_issn.json\") as f:\n",
    "    mapping = json.load(f)"
   ]
  },
  {
   "cell_type": "markdown",
   "metadata": {},
   "source": [
    "We have about 3M keys."
   ]
  },
  {
   "cell_type": "code",
   "execution_count": 64,
   "metadata": {},
   "outputs": [
    {
     "data": {
      "text/plain": [
       "2938859"
      ]
     },
     "execution_count": 64,
     "metadata": {},
     "output_type": "execute_result"
    }
   ],
   "source": [
    "len(mapping)"
   ]
  },
  {
   "cell_type": "code",
   "execution_count": 65,
   "metadata": {},
   "outputs": [],
   "source": [
    "df = pd.DataFrame(((k, len(v)) for k, v in mapping.items()), columns=[\"name\", \"issn_count\"])"
   ]
  },
  {
   "cell_type": "code",
   "execution_count": 66,
   "metadata": {},
   "outputs": [
    {
     "data": {
      "text/plain": [
       "2938859"
      ]
     },
     "execution_count": 66,
     "metadata": {},
     "output_type": "execute_result"
    }
   ],
   "source": [
    "len(df)"
   ]
  },
  {
   "cell_type": "code",
   "execution_count": 67,
   "metadata": {},
   "outputs": [
    {
     "data": {
      "text/html": [
       "<div>\n",
       "<style scoped>\n",
       "    .dataframe tbody tr th:only-of-type {\n",
       "        vertical-align: middle;\n",
       "    }\n",
       "\n",
       "    .dataframe tbody tr th {\n",
       "        vertical-align: top;\n",
       "    }\n",
       "\n",
       "    .dataframe thead th {\n",
       "        text-align: right;\n",
       "    }\n",
       "</style>\n",
       "<table border=\"1\" class=\"dataframe\">\n",
       "  <thead>\n",
       "    <tr style=\"text-align: right;\">\n",
       "      <th></th>\n",
       "      <th>name</th>\n",
       "      <th>issn_count</th>\n",
       "    </tr>\n",
       "  </thead>\n",
       "  <tbody>\n",
       "    <tr>\n",
       "      <th>0</th>\n",
       "      <td>Acta Orientalia.</td>\n",
       "      <td>1</td>\n",
       "    </tr>\n",
       "    <tr>\n",
       "      <th>1</th>\n",
       "      <td>Acta Orientalia (København)</td>\n",
       "      <td>1</td>\n",
       "    </tr>\n",
       "    <tr>\n",
       "      <th>2</th>\n",
       "      <td>The publishers weekly.</td>\n",
       "      <td>2</td>\n",
       "    </tr>\n",
       "    <tr>\n",
       "      <th>3</th>\n",
       "      <td>Publishers weekly</td>\n",
       "      <td>2</td>\n",
       "    </tr>\n",
       "    <tr>\n",
       "      <th>4</th>\n",
       "      <td>ASMT news</td>\n",
       "      <td>1</td>\n",
       "    </tr>\n",
       "  </tbody>\n",
       "</table>\n",
       "</div>"
      ],
      "text/plain": [
       "                          name  issn_count\n",
       "0             Acta Orientalia.           1\n",
       "1  Acta Orientalia (København)           1\n",
       "2     The publishers weekly.           2\n",
       "3            Publishers weekly           2\n",
       "4                    ASMT news           1"
      ]
     },
     "execution_count": 67,
     "metadata": {},
     "output_type": "execute_result"
    }
   ],
   "source": [
    "df.head()"
   ]
  },
  {
   "cell_type": "code",
   "execution_count": 68,
   "metadata": {},
   "outputs": [],
   "source": [
    "unique_name = df[df.issn_count == 1]"
   ]
  },
  {
   "cell_type": "code",
   "execution_count": 69,
   "metadata": {},
   "outputs": [],
   "source": [
    "repeated_names = df[df.issn_count > 1]"
   ]
  },
  {
   "cell_type": "code",
   "execution_count": 70,
   "metadata": {},
   "outputs": [
    {
     "data": {
      "text/plain": [
       "586466"
      ]
     },
     "execution_count": 70,
     "metadata": {},
     "output_type": "execute_result"
    }
   ],
   "source": [
    "len(repeated_names)"
   ]
  },
  {
   "cell_type": "code",
   "execution_count": 71,
   "metadata": {},
   "outputs": [
    {
     "data": {
      "text/plain": [
       "0.1995556779008452"
      ]
     },
     "execution_count": 71,
     "metadata": {},
     "output_type": "execute_result"
    }
   ],
   "source": [
    "len(repeated_names) / len(df)"
   ]
  },
  {
   "cell_type": "markdown",
   "metadata": {},
   "source": [
    "About 19% (or 586466) names are repeated. "
   ]
  },
  {
   "cell_type": "code",
   "execution_count": 72,
   "metadata": {},
   "outputs": [
    {
     "data": {
      "text/html": [
       "<div>\n",
       "<style scoped>\n",
       "    .dataframe tbody tr th:only-of-type {\n",
       "        vertical-align: middle;\n",
       "    }\n",
       "\n",
       "    .dataframe tbody tr th {\n",
       "        vertical-align: top;\n",
       "    }\n",
       "\n",
       "    .dataframe thead th {\n",
       "        text-align: right;\n",
       "    }\n",
       "</style>\n",
       "<table border=\"1\" class=\"dataframe\">\n",
       "  <thead>\n",
       "    <tr style=\"text-align: right;\">\n",
       "      <th></th>\n",
       "      <th>issn_count</th>\n",
       "    </tr>\n",
       "  </thead>\n",
       "  <tbody>\n",
       "    <tr>\n",
       "      <th>count</th>\n",
       "      <td>586466.000000</td>\n",
       "    </tr>\n",
       "    <tr>\n",
       "      <th>mean</th>\n",
       "      <td>2.443930</td>\n",
       "    </tr>\n",
       "    <tr>\n",
       "      <th>std</th>\n",
       "      <td>15.260303</td>\n",
       "    </tr>\n",
       "    <tr>\n",
       "      <th>min</th>\n",
       "      <td>2.000000</td>\n",
       "    </tr>\n",
       "    <tr>\n",
       "      <th>25%</th>\n",
       "      <td>2.000000</td>\n",
       "    </tr>\n",
       "    <tr>\n",
       "      <th>50%</th>\n",
       "      <td>2.000000</td>\n",
       "    </tr>\n",
       "    <tr>\n",
       "      <th>75%</th>\n",
       "      <td>2.000000</td>\n",
       "    </tr>\n",
       "    <tr>\n",
       "      <th>max</th>\n",
       "      <td>9520.000000</td>\n",
       "    </tr>\n",
       "  </tbody>\n",
       "</table>\n",
       "</div>"
      ],
      "text/plain": [
       "          issn_count\n",
       "count  586466.000000\n",
       "mean        2.443930\n",
       "std        15.260303\n",
       "min         2.000000\n",
       "25%         2.000000\n",
       "50%         2.000000\n",
       "75%         2.000000\n",
       "max      9520.000000"
      ]
     },
     "execution_count": 72,
     "metadata": {},
     "output_type": "execute_result"
    }
   ],
   "source": [
    "repeated_names.describe()"
   ]
  },
  {
   "cell_type": "markdown",
   "metadata": {},
   "source": [
    "Which name is shared most?"
   ]
  },
  {
   "cell_type": "code",
   "execution_count": 73,
   "metadata": {},
   "outputs": [
    {
     "data": {
      "text/plain": [
       "name          Annual report.\n",
       "issn_count              9520\n",
       "Name: 45999, dtype: object"
      ]
     },
     "execution_count": 73,
     "metadata": {},
     "output_type": "execute_result"
    }
   ],
   "source": [
    "repeated_names.iloc[repeated_names.issn_count.argmax()] # Annual report."
   ]
  },
  {
   "cell_type": "markdown",
   "metadata": {},
   "source": [
    "It is the \"Annual report.\""
   ]
  },
  {
   "cell_type": "code",
   "execution_count": 74,
   "metadata": {},
   "outputs": [
    {
     "data": {
      "text/plain": [
       "['1495-9097',\n",
       " '2205-7919',\n",
       " '1447-3836',\n",
       " '1914-9220',\n",
       " '0707-1515',\n",
       " '1494-6149',\n",
       " '2293-3174',\n",
       " '1977-9046',\n",
       " '0707-4298',\n",
       " '2239-9674']"
      ]
     },
     "execution_count": 74,
     "metadata": {},
     "output_type": "execute_result"
    }
   ],
   "source": [
    "mapping[\"Annual report.\"][:10]"
   ]
  },
  {
   "cell_type": "markdown",
   "metadata": {},
   "source": [
    "On average a repeated name will point to 3 ISSN. Over 20k names point to more than 3 ISSN."
   ]
  },
  {
   "cell_type": "code",
   "execution_count": 76,
   "metadata": {},
   "outputs": [
    {
     "data": {
      "text/plain": [
       "27230"
      ]
     },
     "execution_count": 76,
     "metadata": {},
     "output_type": "execute_result"
    }
   ],
   "source": [
    "len(repeated_names[repeated_names.issn_count > 3])"
   ]
  },
  {
   "cell_type": "code",
   "execution_count": 77,
   "metadata": {},
   "outputs": [
    {
     "data": {
      "text/html": [
       "<div>\n",
       "<style scoped>\n",
       "    .dataframe tbody tr th:only-of-type {\n",
       "        vertical-align: middle;\n",
       "    }\n",
       "\n",
       "    .dataframe tbody tr th {\n",
       "        vertical-align: top;\n",
       "    }\n",
       "\n",
       "    .dataframe thead th {\n",
       "        text-align: right;\n",
       "    }\n",
       "</style>\n",
       "<table border=\"1\" class=\"dataframe\">\n",
       "  <thead>\n",
       "    <tr style=\"text-align: right;\">\n",
       "      <th></th>\n",
       "      <th>name</th>\n",
       "      <th>issn_count</th>\n",
       "    </tr>\n",
       "  </thead>\n",
       "  <tbody>\n",
       "    <tr>\n",
       "      <th>1356987</th>\n",
       "      <td>Karrier online</td>\n",
       "      <td>6</td>\n",
       "    </tr>\n",
       "    <tr>\n",
       "      <th>1778072</th>\n",
       "      <td>Curriculum express for parents.</td>\n",
       "      <td>4</td>\n",
       "    </tr>\n",
       "    <tr>\n",
       "      <th>366690</th>\n",
       "      <td>Annual Report ....</td>\n",
       "      <td>7</td>\n",
       "    </tr>\n",
       "    <tr>\n",
       "      <th>878789</th>\n",
       "      <td>Brilliant.</td>\n",
       "      <td>4</td>\n",
       "    </tr>\n",
       "    <tr>\n",
       "      <th>37507</th>\n",
       "      <td>Synthesis.</td>\n",
       "      <td>35</td>\n",
       "    </tr>\n",
       "    <tr>\n",
       "      <th>942931</th>\n",
       "      <td>Special Burda</td>\n",
       "      <td>11</td>\n",
       "    </tr>\n",
       "    <tr>\n",
       "      <th>640073</th>\n",
       "      <td>Belle.</td>\n",
       "      <td>6</td>\n",
       "    </tr>\n",
       "    <tr>\n",
       "      <th>2666134</th>\n",
       "      <td>Naše delo</td>\n",
       "      <td>6</td>\n",
       "    </tr>\n",
       "    <tr>\n",
       "      <th>376646</th>\n",
       "      <td>Opinion.</td>\n",
       "      <td>12</td>\n",
       "    </tr>\n",
       "    <tr>\n",
       "      <th>918869</th>\n",
       "      <td>Limited edition magazine.</td>\n",
       "      <td>16</td>\n",
       "    </tr>\n",
       "  </tbody>\n",
       "</table>\n",
       "</div>"
      ],
      "text/plain": [
       "                                    name  issn_count\n",
       "1356987                   Karrier online           6\n",
       "1778072  Curriculum express for parents.           4\n",
       "366690                Annual Report ....           7\n",
       "878789                        Brilliant.           4\n",
       "37507                         Synthesis.          35\n",
       "942931                     Special Burda          11\n",
       "640073                            Belle.           6\n",
       "2666134                        Naše delo           6\n",
       "376646                          Opinion.          12\n",
       "918869         Limited edition magazine.          16"
      ]
     },
     "execution_count": 77,
     "metadata": {},
     "output_type": "execute_result"
    }
   ],
   "source": [
    "repeated_names[repeated_names.issn_count > 3].sample(n=10)"
   ]
  },
  {
   "cell_type": "code",
   "execution_count": 78,
   "metadata": {},
   "outputs": [
    {
     "data": {
      "text/plain": [
       "['1158-9574',\n",
       " '2183-0134',\n",
       " '1517-8889',\n",
       " '1480-4670',\n",
       " '0379-8402',\n",
       " '1724-6598',\n",
       " '2035-8326',\n",
       " '2249-5053',\n",
       " '0872-4784',\n",
       " '2610-8933',\n",
       " '2610-8925',\n",
       " '2654-9263',\n",
       " '2420-9198',\n",
       " '2538-693X',\n",
       " '1487-5349',\n",
       " '1285-9133',\n",
       " '2655-5662',\n",
       " '2295-9084']"
      ]
     },
     "execution_count": 78,
     "metadata": {},
     "output_type": "execute_result"
    }
   ],
   "source": [
    "mapping[\"Philosophica.\"]"
   ]
  },
  {
   "cell_type": "code",
   "execution_count": 79,
   "metadata": {},
   "outputs": [
    {
     "data": {
      "text/plain": [
       "<AxesSubplot:>"
      ]
     },
     "execution_count": 79,
     "metadata": {},
     "output_type": "execute_result"
    },
    {
     "data": {
      "image/png": "[encoded data removed]",
      "text/plain": [
       "<Figure size 432x288 with 1 Axes>"
      ]
     },
     "metadata": {
      "needs_background": "light"
     },
     "output_type": "display_data"
    }
   ],
   "source": [
    "repeated_names[repeated_names.issn_count > 3].issn_count.hist(bins=20)"
   ]
  },
  {
   "cell_type": "code",
   "execution_count": 80,
   "metadata": {},
   "outputs": [
    {
     "data": {
      "text/plain": [
       "<AxesSubplot:>"
      ]
     },
     "execution_count": 80,
     "metadata": {},
     "output_type": "execute_result"
    },
    {
     "data": {
      "image/png": "[encoded data removed]",
      "text/plain": [
       "<Figure size 432x288 with 1 Axes>"
      ]
     },
     "metadata": {
      "needs_background": "light"
     },
     "output_type": "display_data"
    }
   ],
   "source": [
    "repeated_names[(repeated_names.issn_count > 3) & (repeated_names.issn_count < 50)].issn_count.hist(bins=10)"
   ]
  },
  {
   "cell_type": "code",
   "execution_count": 81,
   "metadata": {},
   "outputs": [
    {
     "data": {
      "text/plain": [
       "<AxesSubplot:>"
      ]
     },
     "execution_count": 81,
     "metadata": {},
     "output_type": "execute_result"
    },
    {
     "data": {
      "image/png": "[encoded data removed]",
      "text/plain": [
       "<Figure size 432x288 with 1 Axes>"
      ]
     },
     "metadata": {
      "needs_background": "light"
     },
     "output_type": "display_data"
    }
   ],
   "source": [
    "repeated_names[(repeated_names.issn_count > 3) & (repeated_names.issn_count < 20)].issn_count.hist(bins=10)"
   ]
  },
  {
   "cell_type": "code",
   "execution_count": 82,
   "metadata": {},
   "outputs": [
    {
     "data": {
      "text/plain": [
       "<AxesSubplot:>"
      ]
     },
     "execution_count": 82,
     "metadata": {},
     "output_type": "execute_result"
    },
    {
     "data": {
      "image/png": "[encoded data removed]",
      "text/plain": [
       "<Figure size 432x288 with 1 Axes>"
      ]
     },
     "metadata": {
      "needs_background": "light"
     },
     "output_type": "display_data"
    }
   ],
   "source": [
    "repeated_names[(repeated_names.issn_count > 3) & (repeated_names.issn_count < 8)].issn_count.hist()"
   ]
  },
  {
   "cell_type": "code",
   "execution_count": 83,
   "metadata": {},
   "outputs": [
    {
     "data": {
      "text/plain": [
       "<AxesSubplot:>"
      ]
     },
     "execution_count": 83,
     "metadata": {},
     "output_type": "execute_result"
    },
    {
     "data": {
      "image/png": "[encoded data removed]",
      "text/plain": [
       "<Figure size 432x288 with 1 Axes>"
      ]
     },
     "metadata": {
      "needs_background": "light"
     },
     "output_type": "display_data"
    }
   ],
   "source": [
    "repeated_names[repeated_names.issn_count > 1000].issn_count.hist(bins=10)"
   ]
  },
  {
   "cell_type": "code",
   "execution_count": 84,
   "metadata": {},
   "outputs": [
    {
     "data": {
      "text/html": [
       "<div>\n",
       "<style scoped>\n",
       "    .dataframe tbody tr th:only-of-type {\n",
       "        vertical-align: middle;\n",
       "    }\n",
       "\n",
       "    .dataframe tbody tr th {\n",
       "        vertical-align: top;\n",
       "    }\n",
       "\n",
       "    .dataframe thead th {\n",
       "        text-align: right;\n",
       "    }\n",
       "</style>\n",
       "<table border=\"1\" class=\"dataframe\">\n",
       "  <thead>\n",
       "    <tr style=\"text-align: right;\">\n",
       "      <th></th>\n",
       "      <th>name</th>\n",
       "      <th>issn_count</th>\n",
       "    </tr>\n",
       "  </thead>\n",
       "  <tbody>\n",
       "    <tr>\n",
       "      <th>3511</th>\n",
       "      <td>Bulletin.</td>\n",
       "      <td>2797</td>\n",
       "    </tr>\n",
       "    <tr>\n",
       "      <th>7652</th>\n",
       "      <td>Newsletter.</td>\n",
       "      <td>2773</td>\n",
       "    </tr>\n",
       "    <tr>\n",
       "      <th>8338</th>\n",
       "      <td>Rapport.</td>\n",
       "      <td>1062</td>\n",
       "    </tr>\n",
       "    <tr>\n",
       "      <th>23716</th>\n",
       "      <td>Proceedings.</td>\n",
       "      <td>1565</td>\n",
       "    </tr>\n",
       "    <tr>\n",
       "      <th>45931</th>\n",
       "      <td>Annual report /</td>\n",
       "      <td>1382</td>\n",
       "    </tr>\n",
       "    <tr>\n",
       "      <th>45999</th>\n",
       "      <td>Annual report.</td>\n",
       "      <td>9520</td>\n",
       "    </tr>\n",
       "    <tr>\n",
       "      <th>46056</th>\n",
       "      <td>Annuaire.</td>\n",
       "      <td>1263</td>\n",
       "    </tr>\n",
       "    <tr>\n",
       "      <th>47310</th>\n",
       "      <td>Rapport annuel.</td>\n",
       "      <td>2811</td>\n",
       "    </tr>\n",
       "    <tr>\n",
       "      <th>72341</th>\n",
       "      <td>Annual report</td>\n",
       "      <td>1074</td>\n",
       "    </tr>\n",
       "  </tbody>\n",
       "</table>\n",
       "</div>"
      ],
      "text/plain": [
       "                  name  issn_count\n",
       "3511         Bulletin.        2797\n",
       "7652       Newsletter.        2773\n",
       "8338          Rapport.        1062\n",
       "23716     Proceedings.        1565\n",
       "45931  Annual report /        1382\n",
       "45999   Annual report.        9520\n",
       "46056        Annuaire.        1263\n",
       "47310  Rapport annuel.        2811\n",
       "72341    Annual report        1074"
      ]
     },
     "execution_count": 84,
     "metadata": {},
     "output_type": "execute_result"
    }
   ],
   "source": [
    "repeated_names[repeated_names.issn_count > 1000]"
   ]
  },
  {
   "cell_type": "code",
   "execution_count": 85,
   "metadata": {},
   "outputs": [
    {
     "data": {
      "text/html": [
       "<div>\n",
       "<style scoped>\n",
       "    .dataframe tbody tr th:only-of-type {\n",
       "        vertical-align: middle;\n",
       "    }\n",
       "\n",
       "    .dataframe tbody tr th {\n",
       "        vertical-align: top;\n",
       "    }\n",
       "\n",
       "    .dataframe thead th {\n",
       "        text-align: right;\n",
       "    }\n",
       "</style>\n",
       "<table border=\"1\" class=\"dataframe\">\n",
       "  <thead>\n",
       "    <tr style=\"text-align: right;\">\n",
       "      <th></th>\n",
       "      <th>name</th>\n",
       "      <th>issn_count</th>\n",
       "    </tr>\n",
       "  </thead>\n",
       "  <tbody>\n",
       "    <tr>\n",
       "      <th>103</th>\n",
       "      <td>Bulletin d'information.</td>\n",
       "      <td>696</td>\n",
       "    </tr>\n",
       "    <tr>\n",
       "      <th>3230</th>\n",
       "      <td>Bulletin de liaison.</td>\n",
       "      <td>512</td>\n",
       "    </tr>\n",
       "    <tr>\n",
       "      <th>3511</th>\n",
       "      <td>Bulletin.</td>\n",
       "      <td>2797</td>\n",
       "    </tr>\n",
       "    <tr>\n",
       "      <th>7652</th>\n",
       "      <td>Newsletter.</td>\n",
       "      <td>2773</td>\n",
       "    </tr>\n",
       "    <tr>\n",
       "      <th>8338</th>\n",
       "      <td>Rapport.</td>\n",
       "      <td>1062</td>\n",
       "    </tr>\n",
       "    <tr>\n",
       "      <th>23716</th>\n",
       "      <td>Proceedings.</td>\n",
       "      <td>1565</td>\n",
       "    </tr>\n",
       "    <tr>\n",
       "      <th>45886</th>\n",
       "      <td>Report.</td>\n",
       "      <td>764</td>\n",
       "    </tr>\n",
       "    <tr>\n",
       "      <th>45931</th>\n",
       "      <td>Annual report /</td>\n",
       "      <td>1382</td>\n",
       "    </tr>\n",
       "    <tr>\n",
       "      <th>45999</th>\n",
       "      <td>Annual report.</td>\n",
       "      <td>9520</td>\n",
       "    </tr>\n",
       "    <tr>\n",
       "      <th>46056</th>\n",
       "      <td>Annuaire.</td>\n",
       "      <td>1263</td>\n",
       "    </tr>\n",
       "    <tr>\n",
       "      <th>46462</th>\n",
       "      <td>Jaarverslag.</td>\n",
       "      <td>678</td>\n",
       "    </tr>\n",
       "    <tr>\n",
       "      <th>47235</th>\n",
       "      <td>Rapport d'activité.</td>\n",
       "      <td>690</td>\n",
       "    </tr>\n",
       "    <tr>\n",
       "      <th>47310</th>\n",
       "      <td>Rapport annuel.</td>\n",
       "      <td>2811</td>\n",
       "    </tr>\n",
       "    <tr>\n",
       "      <th>49388</th>\n",
       "      <td>Jahresbericht.</td>\n",
       "      <td>528</td>\n",
       "    </tr>\n",
       "    <tr>\n",
       "      <th>72341</th>\n",
       "      <td>Annual report</td>\n",
       "      <td>1074</td>\n",
       "    </tr>\n",
       "    <tr>\n",
       "      <th>121778</th>\n",
       "      <td>Alumni directory /</td>\n",
       "      <td>511</td>\n",
       "    </tr>\n",
       "    <tr>\n",
       "      <th>129027</th>\n",
       "      <td>Bulletin municipal.</td>\n",
       "      <td>521</td>\n",
       "    </tr>\n",
       "    <tr>\n",
       "      <th>150771</th>\n",
       "      <td>La Lettre.</td>\n",
       "      <td>630</td>\n",
       "    </tr>\n",
       "    <tr>\n",
       "      <th>169246</th>\n",
       "      <td>Local climatological data.</td>\n",
       "      <td>613</td>\n",
       "    </tr>\n",
       "    <tr>\n",
       "      <th>269569</th>\n",
       "      <td>Estimates.</td>\n",
       "      <td>680</td>\n",
       "    </tr>\n",
       "  </tbody>\n",
       "</table>\n",
       "</div>"
      ],
      "text/plain": [
       "                              name  issn_count\n",
       "103        Bulletin d'information.         696\n",
       "3230          Bulletin de liaison.         512\n",
       "3511                     Bulletin.        2797\n",
       "7652                   Newsletter.        2773\n",
       "8338                      Rapport.        1062\n",
       "23716                 Proceedings.        1565\n",
       "45886                      Report.         764\n",
       "45931              Annual report /        1382\n",
       "45999               Annual report.        9520\n",
       "46056                    Annuaire.        1263\n",
       "46462                 Jaarverslag.         678\n",
       "47235          Rapport d'activité.         690\n",
       "47310              Rapport annuel.        2811\n",
       "49388               Jahresbericht.         528\n",
       "72341                Annual report        1074\n",
       "121778          Alumni directory /         511\n",
       "129027         Bulletin municipal.         521\n",
       "150771                La Lettre.         630\n",
       "169246  Local climatological data.         613\n",
       "269569                  Estimates.         680"
      ]
     },
     "execution_count": 85,
     "metadata": {},
     "output_type": "execute_result"
    }
   ],
   "source": [
    "repeated_names[repeated_names.issn_count > 500]"
   ]
  },
  {
   "cell_type": "code",
   "execution_count": 86,
   "metadata": {},
   "outputs": [
    {
     "data": {
      "text/html": [
       "<div>\n",
       "<style scoped>\n",
       "    .dataframe tbody tr th:only-of-type {\n",
       "        vertical-align: middle;\n",
       "    }\n",
       "\n",
       "    .dataframe tbody tr th {\n",
       "        vertical-align: top;\n",
       "    }\n",
       "\n",
       "    .dataframe thead th {\n",
       "        text-align: right;\n",
       "    }\n",
       "</style>\n",
       "<table border=\"1\" class=\"dataframe\">\n",
       "  <thead>\n",
       "    <tr style=\"text-align: right;\">\n",
       "      <th></th>\n",
       "      <th>name</th>\n",
       "      <th>issn_count</th>\n",
       "    </tr>\n",
       "  </thead>\n",
       "  <tbody>\n",
       "    <tr>\n",
       "      <th>103</th>\n",
       "      <td>Bulletin d'information.</td>\n",
       "      <td>696</td>\n",
       "    </tr>\n",
       "    <tr>\n",
       "      <th>2676</th>\n",
       "      <td>Newsletter /</td>\n",
       "      <td>290</td>\n",
       "    </tr>\n",
       "    <tr>\n",
       "      <th>3230</th>\n",
       "      <td>Bulletin de liaison.</td>\n",
       "      <td>512</td>\n",
       "    </tr>\n",
       "    <tr>\n",
       "      <th>3511</th>\n",
       "      <td>Bulletin.</td>\n",
       "      <td>2797</td>\n",
       "    </tr>\n",
       "    <tr>\n",
       "      <th>3941</th>\n",
       "      <td>Boletín.</td>\n",
       "      <td>227</td>\n",
       "    </tr>\n",
       "    <tr>\n",
       "      <th>...</th>\n",
       "      <td>...</td>\n",
       "      <td>...</td>\n",
       "    </tr>\n",
       "    <tr>\n",
       "      <th>534658</th>\n",
       "      <td>Relatório e contas.</td>\n",
       "      <td>248</td>\n",
       "    </tr>\n",
       "    <tr>\n",
       "      <th>606501</th>\n",
       "      <td>Bildung und Beruf regional.</td>\n",
       "      <td>292</td>\n",
       "    </tr>\n",
       "    <tr>\n",
       "      <th>1013518</th>\n",
       "      <td>Vies de famille.</td>\n",
       "      <td>222</td>\n",
       "    </tr>\n",
       "    <tr>\n",
       "      <th>1117647</th>\n",
       "      <td>Country risk service.</td>\n",
       "      <td>271</td>\n",
       "    </tr>\n",
       "    <tr>\n",
       "      <th>1236478</th>\n",
       "      <td>Performance report for the period ending March...</td>\n",
       "      <td>217</td>\n",
       "    </tr>\n",
       "  </tbody>\n",
       "</table>\n",
       "<p>72 rows × 2 columns</p>\n",
       "</div>"
      ],
      "text/plain": [
       "                                                      name  issn_count\n",
       "103                                Bulletin d'information.         696\n",
       "2676                                          Newsletter /         290\n",
       "3230                                  Bulletin de liaison.         512\n",
       "3511                                             Bulletin.        2797\n",
       "3941                                              Boletín.         227\n",
       "...                                                    ...         ...\n",
       "534658                                 Relatório e contas.         248\n",
       "606501                         Bildung und Beruf regional.         292\n",
       "1013518                                   Vies de famille.         222\n",
       "1117647                              Country risk service.         271\n",
       "1236478  Performance report for the period ending March...         217\n",
       "\n",
       "[72 rows x 2 columns]"
      ]
     },
     "execution_count": 86,
     "metadata": {},
     "output_type": "execute_result"
    }
   ],
   "source": [
    "repeated_names[repeated_names.issn_count > 200]"
   ]
  },
  {
   "cell_type": "code",
   "execution_count": 87,
   "metadata": {},
   "outputs": [
    {
     "data": {
      "text/html": [
       "<div>\n",
       "<style scoped>\n",
       "    .dataframe tbody tr th:only-of-type {\n",
       "        vertical-align: middle;\n",
       "    }\n",
       "\n",
       "    .dataframe tbody tr th {\n",
       "        vertical-align: top;\n",
       "    }\n",
       "\n",
       "    .dataframe thead th {\n",
       "        text-align: right;\n",
       "    }\n",
       "</style>\n",
       "<table border=\"1\" class=\"dataframe\">\n",
       "  <thead>\n",
       "    <tr style=\"text-align: right;\">\n",
       "      <th></th>\n",
       "      <th>name</th>\n",
       "      <th>issn_count</th>\n",
       "    </tr>\n",
       "  </thead>\n",
       "  <tbody>\n",
       "    <tr>\n",
       "      <th>103</th>\n",
       "      <td>Bulletin d'information.</td>\n",
       "      <td>696</td>\n",
       "    </tr>\n",
       "    <tr>\n",
       "      <th>2676</th>\n",
       "      <td>Newsletter /</td>\n",
       "      <td>290</td>\n",
       "    </tr>\n",
       "    <tr>\n",
       "      <th>3230</th>\n",
       "      <td>Bulletin de liaison.</td>\n",
       "      <td>512</td>\n",
       "    </tr>\n",
       "    <tr>\n",
       "      <th>3511</th>\n",
       "      <td>Bulletin.</td>\n",
       "      <td>2797</td>\n",
       "    </tr>\n",
       "    <tr>\n",
       "      <th>3941</th>\n",
       "      <td>Boletín.</td>\n",
       "      <td>227</td>\n",
       "    </tr>\n",
       "    <tr>\n",
       "      <th>...</th>\n",
       "      <td>...</td>\n",
       "      <td>...</td>\n",
       "    </tr>\n",
       "    <tr>\n",
       "      <th>1315194</th>\n",
       "      <td>Country commerce.</td>\n",
       "      <td>120</td>\n",
       "    </tr>\n",
       "    <tr>\n",
       "      <th>1327255</th>\n",
       "      <td>Bible studies for life.</td>\n",
       "      <td>159</td>\n",
       "    </tr>\n",
       "    <tr>\n",
       "      <th>1805527</th>\n",
       "      <td>LexisNexis practice guide.</td>\n",
       "      <td>110</td>\n",
       "    </tr>\n",
       "    <tr>\n",
       "      <th>2637306</th>\n",
       "      <td>Operational risk report.</td>\n",
       "      <td>119</td>\n",
       "    </tr>\n",
       "    <tr>\n",
       "      <th>2659477</th>\n",
       "      <td>Interempresas net.</td>\n",
       "      <td>115</td>\n",
       "    </tr>\n",
       "  </tbody>\n",
       "</table>\n",
       "<p>204 rows × 2 columns</p>\n",
       "</div>"
      ],
      "text/plain": [
       "                               name  issn_count\n",
       "103         Bulletin d'information.         696\n",
       "2676                   Newsletter /         290\n",
       "3230           Bulletin de liaison.         512\n",
       "3511                      Bulletin.        2797\n",
       "3941                       Boletín.         227\n",
       "...                             ...         ...\n",
       "1315194           Country commerce.         120\n",
       "1327255     Bible studies for life.         159\n",
       "1805527  LexisNexis practice guide.         110\n",
       "2637306    Operational risk report.         119\n",
       "2659477          Interempresas net.         115\n",
       "\n",
       "[204 rows x 2 columns]"
      ]
     },
     "execution_count": 87,
     "metadata": {},
     "output_type": "execute_result"
    }
   ],
   "source": [
    "repeated_names[repeated_names.issn_count > 100]"
   ]
  },
  {
   "cell_type": "code",
   "execution_count": 88,
   "metadata": {},
   "outputs": [
    {
     "data": {
      "text/html": [
       "<div>\n",
       "<style scoped>\n",
       "    .dataframe tbody tr th:only-of-type {\n",
       "        vertical-align: middle;\n",
       "    }\n",
       "\n",
       "    .dataframe tbody tr th {\n",
       "        vertical-align: top;\n",
       "    }\n",
       "\n",
       "    .dataframe thead th {\n",
       "        text-align: right;\n",
       "    }\n",
       "</style>\n",
       "<table border=\"1\" class=\"dataframe\">\n",
       "  <thead>\n",
       "    <tr style=\"text-align: right;\">\n",
       "      <th></th>\n",
       "      <th>name</th>\n",
       "      <th>issn_count</th>\n",
       "    </tr>\n",
       "  </thead>\n",
       "  <tbody>\n",
       "    <tr>\n",
       "      <th>2</th>\n",
       "      <td>The publishers weekly.</td>\n",
       "      <td>2</td>\n",
       "    </tr>\n",
       "    <tr>\n",
       "      <th>3</th>\n",
       "      <td>Publishers weekly</td>\n",
       "      <td>2</td>\n",
       "    </tr>\n",
       "    <tr>\n",
       "      <th>6</th>\n",
       "      <td>Activitas Nervosa Superior.</td>\n",
       "      <td>2</td>\n",
       "    </tr>\n",
       "    <tr>\n",
       "      <th>12</th>\n",
       "      <td>Library journal.</td>\n",
       "      <td>2</td>\n",
       "    </tr>\n",
       "    <tr>\n",
       "      <th>24</th>\n",
       "      <td>Acta cardiologica.</td>\n",
       "      <td>2</td>\n",
       "    </tr>\n",
       "    <tr>\n",
       "      <th>...</th>\n",
       "      <td>...</td>\n",
       "      <td>...</td>\n",
       "    </tr>\n",
       "    <tr>\n",
       "      <th>2938851</th>\n",
       "      <td>AAPS introductions in the pharmaceutical scien...</td>\n",
       "      <td>2</td>\n",
       "    </tr>\n",
       "    <tr>\n",
       "      <th>2938852</th>\n",
       "      <td>AAPS introductions in the pharmaceutical scien...</td>\n",
       "      <td>2</td>\n",
       "    </tr>\n",
       "    <tr>\n",
       "      <th>2938856</th>\n",
       "      <td>Verzeichniss der Werke lebender Künstler auf d...</td>\n",
       "      <td>2</td>\n",
       "    </tr>\n",
       "    <tr>\n",
       "      <th>2938857</th>\n",
       "      <td>IEEE Advanced Information Management, Communic...</td>\n",
       "      <td>2</td>\n",
       "    </tr>\n",
       "    <tr>\n",
       "      <th>2938858</th>\n",
       "      <td>Products finishing México (Print)</td>\n",
       "      <td>2</td>\n",
       "    </tr>\n",
       "  </tbody>\n",
       "</table>\n",
       "<p>586466 rows × 2 columns</p>\n",
       "</div>"
      ],
      "text/plain": [
       "                                                      name  issn_count\n",
       "2                                 The publishers weekly.           2\n",
       "3                                        Publishers weekly           2\n",
       "6                              Activitas Nervosa Superior.           2\n",
       "12                                        Library journal.           2\n",
       "24                                      Acta cardiologica.           2\n",
       "...                                                    ...         ...\n",
       "2938851  AAPS introductions in the pharmaceutical scien...           2\n",
       "2938852  AAPS introductions in the pharmaceutical scien...           2\n",
       "2938856  Verzeichniss der Werke lebender Künstler auf d...           2\n",
       "2938857  IEEE Advanced Information Management, Communic...           2\n",
       "2938858                  Products finishing México (Print)           2\n",
       "\n",
       "[586466 rows x 2 columns]"
      ]
     },
     "execution_count": 88,
     "metadata": {},
     "output_type": "execute_result"
    }
   ],
   "source": [
    "repeated_names"
   ]
  },
  {
   "cell_type": "markdown",
   "metadata": {},
   "source": [
    "If a name matches a repeated name exactly or fuzzy matches to a repeated name and there is not other information available, the match status must be ambigious."
   ]
  },
  {
   "cell_type": "code",
   "execution_count": 89,
   "metadata": {},
   "outputs": [
    {
     "data": {
      "text/plain": [
       "['2735-9298', '2735-928X']"
      ]
     },
     "execution_count": 89,
     "metadata": {},
     "output_type": "execute_result"
    }
   ],
   "source": [
    "mapping[\"Nigerian Journal of Wildlife Management\"]"
   ]
  },
  {
   "cell_type": "markdown",
   "metadata": {},
   "source": [
    "These are two ISSN refering to the same journal."
   ]
  },
  {
   "cell_type": "code",
   "execution_count": 90,
   "metadata": {},
   "outputs": [],
   "source": [
    "import requests"
   ]
  },
  {
   "cell_type": "code",
   "execution_count": 91,
   "metadata": {},
   "outputs": [
    {
     "data": {
      "text/plain": [
       "{'@graph': [{'@id': 'http://id.loc.gov/vocabulary/countries/nr',\n",
       "   'label': 'Nigeria'},\n",
       "  {'@id': 'organization/ISSNCenter#_e',\n",
       "   '@type': 'http://schema.org/Organization'},\n",
       "  {'@id': 'resource/ISSN-L/2735-9298',\n",
       "   'identifiedBy': 'resource/ISSN/2735-928X#ISSN-L'},\n",
       "  {'@id': 'resource/ISSN/2735-928X',\n",
       "   '@type': ['http://id.loc.gov/ontologies/bibframe/Work',\n",
       "    'http://id.loc.gov/ontologies/bibframe/Instance',\n",
       "    'http://schema.org/Periodical'],\n",
       "   'identifiedBy': ['resource/ISSN/2735-928X#ISSN-L',\n",
       "    'resource/ISSN/2735-928X#ISSN',\n",
       "    'resource/ISSN/2735-928X#KeyTitle'],\n",
       "   'mainTitle': 'Nigerian Journal of Wildlife Management',\n",
       "   'otherPhysicalFormat': 'resource/ISSN/2735-9298',\n",
       "   'title': 'resource/ISSN/2735-928X#KeyTitle',\n",
       "   'format': 'vocabularies/medium#Online',\n",
       "   'identifier': '2735-928X',\n",
       "   'isFormatOf': 'resource/ISSN/2735-9298',\n",
       "   'type': 'http://marc21rdf.info/terms/formofmaterial#a',\n",
       "   'http://purl.org/ontology/bibo/issn': '2735-928X',\n",
       "   'isPartOf': 'resource/ISSN-L/2735-9298',\n",
       "   'issn': '2735-928X',\n",
       "   'name': ['Nigerian JOurnal of Wildlife Management (Ondo. Online)',\n",
       "    'Nigerian Journal of Wildlife Management'],\n",
       "   'publication': 'resource/ISSN/2735-928X#ReferencePublicationEvent',\n",
       "   'url': 'http://www.wildlifesociety.ng.org/'},\n",
       "  {'@id': 'resource/ISSN/2735-928X#ISSN',\n",
       "   '@type': 'http://id.loc.gov/ontologies/bibframe/Issn',\n",
       "   'status': 'vocabularies/IdentifierStatus#Valid',\n",
       "   'value': '2735-928X'},\n",
       "  {'@id': 'resource/ISSN/2735-928X#ISSN-L',\n",
       "   '@type': 'http://id.loc.gov/ontologies/bibframe/IssnL',\n",
       "   'status': 'vocabularies/IdentifierStatus#Valid',\n",
       "   'value': '2735-9298'},\n",
       "  {'@id': 'resource/ISSN/2735-928X#KeyTitle',\n",
       "   '@type': ['http://id.loc.gov/ontologies/bibframe/Identifier',\n",
       "    'http://id.loc.gov/ontologies/bibframe/KeyTitle'],\n",
       "   'value': 'Nigerian JOurnal of Wildlife Management (Ondo. Online)'},\n",
       "  {'@id': 'resource/ISSN/2735-928X#Record',\n",
       "   '@type': 'http://schema.org/CreativeWork',\n",
       "   'status': 'vocabularies/RecordStatus#Register',\n",
       "   'modified': '20200808163600.0',\n",
       "   'mainEntity': 'resource/ISSN/2735-928X',\n",
       "   'wasAttributedTo': 'organization/ISSNCenter#_e'},\n",
       "  {'@id': 'resource/ISSN/2735-928X#ReferencePublicationEvent',\n",
       "   '@type': 'http://schema.org/PublicationEvent',\n",
       "   'location': 'http://id.loc.gov/vocabulary/countries/nr'}],\n",
       " '@context': {'status': {'@id': 'http://id.loc.gov/ontologies/bibframe/status',\n",
       "   '@type': '@id'},\n",
       "  'value': {'@id': 'http://www.w3.org/1999/02/22-rdf-syntax-ns#value'},\n",
       "  'publication': {'@id': 'http://schema.org/publication', '@type': '@id'},\n",
       "  'mainTitle': {'@id': 'http://id.loc.gov/ontologies/bibframe/mainTitle'},\n",
       "  'title': {'@id': 'http://id.loc.gov/ontologies/bibframe/title',\n",
       "   '@type': '@id'},\n",
       "  'name': {'@id': 'http://schema.org/name'},\n",
       "  'issn': {'@id': 'http://schema.org/issn'},\n",
       "  'format': {'@id': 'http://purl.org/dc/elements/1.1/format', '@type': '@id'},\n",
       "  'url': {'@id': 'http://schema.org/url'},\n",
       "  'identifiedBy': {'@id': 'http://id.loc.gov/ontologies/bibframe/identifiedBy',\n",
       "   '@type': '@id'},\n",
       "  'otherPhysicalFormat': {'@id': 'http://id.loc.gov/ontologies/bibframe/otherPhysicalFormat',\n",
       "   '@type': '@id'},\n",
       "  'isPartOf': {'@id': 'http://schema.org/isPartOf', '@type': '@id'},\n",
       "  'type': {'@id': 'http://purl.org/dc/terms/type', '@type': '@id'},\n",
       "  'identifier': {'@id': 'http://purl.org/dc/elements/1.1/identifier'},\n",
       "  'isFormatOf': {'@id': 'http://purl.org/dc/terms/isFormatOf', '@type': '@id'},\n",
       "  'wasAttributedTo': {'@id': 'http://www.w3.org/ns/prov#wasAttributedTo',\n",
       "   '@type': '@id'},\n",
       "  'mainEntity': {'@id': 'http://schema.org/mainEntity', '@type': '@id'},\n",
       "  'modified': {'@id': 'http://purl.org/dc/terms/modified',\n",
       "   '@type': 'http://www.w3.org/2001/XMLSchema#dateTime'},\n",
       "  'location': {'@id': 'http://schema.org/location', '@type': '@id'},\n",
       "  'label': {'@id': 'http://www.w3.org/2000/01/rdf-schema#label'}}}"
      ]
     },
     "execution_count": 91,
     "metadata": {},
     "output_type": "execute_result"
    }
   ],
   "source": [
    "requests.get(\"https://portal.issn.org/resource/ISSN/2735-928X?format=json\").json()"
   ]
  },
  {
   "cell_type": "markdown",
   "metadata": {},
   "source": [
    "Interestingly, most (80%) journal do not seem to have the distinction between electronic and print. But it may be that names are not used consistently."
   ]
  },
  {
   "cell_type": "code",
   "execution_count": 94,
   "metadata": {},
   "outputs": [
    {
     "data": {
      "text/plain": [
       "0.8004443220991548"
      ]
     },
     "execution_count": 94,
     "metadata": {},
     "output_type": "execute_result"
    }
   ],
   "source": [
    "len(unique_name) / len(df)"
   ]
  },
  {
   "cell_type": "code",
   "execution_count": 96,
   "metadata": {},
   "outputs": [
    {
     "data": {
      "text/html": [
       "<div>\n",
       "<style scoped>\n",
       "    .dataframe tbody tr th:only-of-type {\n",
       "        vertical-align: middle;\n",
       "    }\n",
       "\n",
       "    .dataframe tbody tr th {\n",
       "        vertical-align: top;\n",
       "    }\n",
       "\n",
       "    .dataframe thead th {\n",
       "        text-align: right;\n",
       "    }\n",
       "</style>\n",
       "<table border=\"1\" class=\"dataframe\">\n",
       "  <thead>\n",
       "    <tr style=\"text-align: right;\">\n",
       "      <th></th>\n",
       "      <th>name</th>\n",
       "      <th>issn_count</th>\n",
       "    </tr>\n",
       "  </thead>\n",
       "  <tbody>\n",
       "    <tr>\n",
       "      <th>1848393</th>\n",
       "      <td>Aux petits bonheurs des enfants</td>\n",
       "      <td>1</td>\n",
       "    </tr>\n",
       "    <tr>\n",
       "      <th>1147789</th>\n",
       "      <td>Statistik om boliger ... i Aalborg Kommune.</td>\n",
       "      <td>1</td>\n",
       "    </tr>\n",
       "    <tr>\n",
       "      <th>2789832</th>\n",
       "      <td>Mur (Regensburg)</td>\n",
       "      <td>1</td>\n",
       "    </tr>\n",
       "    <tr>\n",
       "      <th>35201</th>\n",
       "      <td>Boletín de la Sociedad Vasco-Navarra de pediat...</td>\n",
       "      <td>1</td>\n",
       "    </tr>\n",
       "    <tr>\n",
       "      <th>1955109</th>\n",
       "      <td>Cucina piatti unici.</td>\n",
       "      <td>1</td>\n",
       "    </tr>\n",
       "    <tr>\n",
       "      <th>1039</th>\n",
       "      <td>ABD</td>\n",
       "      <td>1</td>\n",
       "    </tr>\n",
       "    <tr>\n",
       "      <th>2595157</th>\n",
       "      <td>Tribuna quinzenal de Mataró</td>\n",
       "      <td>1</td>\n",
       "    </tr>\n",
       "    <tr>\n",
       "      <th>416131</th>\n",
       "      <td>Japan high tech review</td>\n",
       "      <td>1</td>\n",
       "    </tr>\n",
       "    <tr>\n",
       "      <th>2885449</th>\n",
       "      <td>Revista cósmica calavera.</td>\n",
       "      <td>1</td>\n",
       "    </tr>\n",
       "    <tr>\n",
       "      <th>343232</th>\n",
       "      <td>First days.</td>\n",
       "      <td>1</td>\n",
       "    </tr>\n",
       "  </tbody>\n",
       "</table>\n",
       "</div>"
      ],
      "text/plain": [
       "                                                      name  issn_count\n",
       "1848393                    Aux petits bonheurs des enfants           1\n",
       "1147789        Statistik om boliger ... i Aalborg Kommune.           1\n",
       "2789832                                   Mur (Regensburg)           1\n",
       "35201    Boletín de la Sociedad Vasco-Navarra de pediat...           1\n",
       "1955109                               Cucina piatti unici.           1\n",
       "1039                                                   ABD           1\n",
       "2595157                        Tribuna quinzenal de Mataró           1\n",
       "416131                              Japan high tech review           1\n",
       "2885449                         Revista cósmica calavera.           1\n",
       "343232                                         First days.           1"
      ]
     },
     "execution_count": 96,
     "metadata": {},
     "output_type": "execute_result"
    }
   ],
   "source": [
    "unique_name.sample(n=10)"
   ]
  },
  {
   "cell_type": "markdown",
   "metadata": {},
   "source": [
    "## Example \"Fieldiana\"\n",
    "\n",
    "* \"Fieldiana. Anthropology\"\n",
    "* https://www.jstor.org/journal/fieldianaanthro"
   ]
  },
  {
   "cell_type": "code",
   "execution_count": 97,
   "metadata": {},
   "outputs": [
    {
     "data": {
      "text/plain": [
       "['2162-4321', '0071-4739']"
      ]
     },
     "execution_count": 97,
     "metadata": {},
     "output_type": "execute_result"
    }
   ],
   "source": [
    "mapping[\"Fieldiana. Anthropology\"]"
   ]
  },
  {
   "cell_type": "markdown",
   "metadata": {},
   "source": [
    "However, jstor reports two ISSN: INSSP: 0071-4739, EISSN: 2162-4321 - but ISSN.org does not know about it?"
   ]
  },
  {
   "cell_type": "code",
   "execution_count": 98,
   "metadata": {},
   "outputs": [],
   "source": [
    "unique_issn = set([item for v in mapping.values() for item in v])"
   ]
  },
  {
   "cell_type": "code",
   "execution_count": 99,
   "metadata": {},
   "outputs": [
    {
     "data": {
      "text/plain": [
       "True"
      ]
     },
     "execution_count": 99,
     "metadata": {},
     "output_type": "execute_result"
    }
   ],
   "source": [
    "\"2162-4321\" in unique_issn"
   ]
  },
  {
   "cell_type": "code",
   "execution_count": 100,
   "metadata": {},
   "outputs": [
    {
     "name": "stdout",
     "output_type": "stream",
     "text": [
      "Fieldiana. ['2162-4267', '2162-4321', '2162-4291', '0096-2651', '0015-0746', '0097-3572', '2163-7105', '0071-4739', '0015-0754', '2158-5520', '0096-0438', '2162-4348']\n",
      "Fieldiana. Anthropology ['2162-4321', '0071-4739']\n",
      "Fieldiana. Anthropology (Online) ['2162-4321', '0071-4739']\n"
     ]
    }
   ],
   "source": [
    "for k, v in mapping.items():\n",
    "    if \"2162-4321\" in v:\n",
    "        print(k, v)"
   ]
  },
  {
   "cell_type": "markdown",
   "metadata": {},
   "source": [
    "As an example: when given a string like \"Fieldiana\" we would return ambiguous. But \"Fieldiana. (Online)\" might be matched to '2162-4321'. "
   ]
  },
  {
   "cell_type": "markdown",
   "metadata": {},
   "source": [
    "## Other Examples"
   ]
  },
  {
   "cell_type": "code",
   "execution_count": 101,
   "metadata": {},
   "outputs": [
    {
     "data": {
      "text/html": [
       "<div>\n",
       "<style scoped>\n",
       "    .dataframe tbody tr th:only-of-type {\n",
       "        vertical-align: middle;\n",
       "    }\n",
       "\n",
       "    .dataframe tbody tr th {\n",
       "        vertical-align: top;\n",
       "    }\n",
       "\n",
       "    .dataframe thead th {\n",
       "        text-align: right;\n",
       "    }\n",
       "</style>\n",
       "<table border=\"1\" class=\"dataframe\">\n",
       "  <thead>\n",
       "    <tr style=\"text-align: right;\">\n",
       "      <th></th>\n",
       "      <th>name</th>\n",
       "      <th>issn_count</th>\n",
       "    </tr>\n",
       "  </thead>\n",
       "  <tbody>\n",
       "    <tr>\n",
       "      <th>571163</th>\n",
       "      <td>Afhandling.</td>\n",
       "      <td>2</td>\n",
       "    </tr>\n",
       "    <tr>\n",
       "      <th>1800364</th>\n",
       "      <td>Advances in e-business research series (Online)</td>\n",
       "      <td>2</td>\n",
       "    </tr>\n",
       "    <tr>\n",
       "      <th>2476171</th>\n",
       "      <td>Journal of Automatic Control (Online)</td>\n",
       "      <td>2</td>\n",
       "    </tr>\n",
       "    <tr>\n",
       "      <th>2756754</th>\n",
       "      <td>Gerencia de riesgos y seguros.</td>\n",
       "      <td>2</td>\n",
       "    </tr>\n",
       "    <tr>\n",
       "      <th>2799421</th>\n",
       "      <td>The skinny (Scotland ed. Online)</td>\n",
       "      <td>2</td>\n",
       "    </tr>\n",
       "    <tr>\n",
       "      <th>1254438</th>\n",
       "      <td>Accessible news (Print)</td>\n",
       "      <td>2</td>\n",
       "    </tr>\n",
       "    <tr>\n",
       "      <th>2177530</th>\n",
       "      <td>Biomathematical and biomechanical modeling of ...</td>\n",
       "      <td>2</td>\n",
       "    </tr>\n",
       "    <tr>\n",
       "      <th>2093431</th>\n",
       "      <td>Le Jura socialiste (Saint-Claude)</td>\n",
       "      <td>2</td>\n",
       "    </tr>\n",
       "    <tr>\n",
       "      <th>2752857</th>\n",
       "      <td>European Journal of Formal Sciences and Engine...</td>\n",
       "      <td>2</td>\n",
       "    </tr>\n",
       "    <tr>\n",
       "      <th>389738</th>\n",
       "      <td>Austral journal of veterinary sciences (Online)</td>\n",
       "      <td>2</td>\n",
       "    </tr>\n",
       "  </tbody>\n",
       "</table>\n",
       "</div>"
      ],
      "text/plain": [
       "                                                      name  issn_count\n",
       "571163                                         Afhandling.           2\n",
       "1800364    Advances in e-business research series (Online)           2\n",
       "2476171              Journal of Automatic Control (Online)           2\n",
       "2756754                     Gerencia de riesgos y seguros.           2\n",
       "2799421                 The skinny (Scotland ed. Online)           2\n",
       "1254438                            Accessible news (Print)           2\n",
       "2177530  Biomathematical and biomechanical modeling of ...           2\n",
       "2093431                Le Jura socialiste (Saint-Claude)           2\n",
       "2752857  European Journal of Formal Sciences and Engine...           2\n",
       "389738     Austral journal of veterinary sciences (Online)           2"
      ]
     },
     "execution_count": 101,
     "metadata": {},
     "output_type": "execute_result"
    }
   ],
   "source": [
    "repeated_names.sample(n=10)"
   ]
  },
  {
   "cell_type": "code",
   "execution_count": 102,
   "metadata": {},
   "outputs": [
    {
     "data": {
      "text/plain": [
       "['1608-3318', '1070-3284']"
      ]
     },
     "execution_count": 102,
     "metadata": {},
     "output_type": "execute_result"
    }
   ],
   "source": [
    "mapping[\"Russian journal of coordination chemistry.\"]"
   ]
  },
  {
   "cell_type": "markdown",
   "metadata": {},
   "source": [
    "A new question: How many journals are listed under different names, yet still refer to the same journal?"
   ]
  },
  {
   "cell_type": "code",
   "execution_count": 103,
   "metadata": {},
   "outputs": [
    {
     "data": {
      "text/plain": [
       "['0733-2289']"
      ]
     },
     "execution_count": 103,
     "metadata": {},
     "output_type": "execute_result"
    }
   ],
   "source": [
    "mapping[\"San Bernardino County popular street atlas\"]"
   ]
  },
  {
   "cell_type": "markdown",
   "metadata": {},
   "source": [
    "## Journal of ..."
   ]
  },
  {
   "cell_type": "code",
   "execution_count": 104,
   "metadata": {},
   "outputs": [
    {
     "data": {
      "text/html": [
       "<div>\n",
       "<style scoped>\n",
       "    .dataframe tbody tr th:only-of-type {\n",
       "        vertical-align: middle;\n",
       "    }\n",
       "\n",
       "    .dataframe tbody tr th {\n",
       "        vertical-align: top;\n",
       "    }\n",
       "\n",
       "    .dataframe thead th {\n",
       "        text-align: right;\n",
       "    }\n",
       "</style>\n",
       "<table border=\"1\" class=\"dataframe\">\n",
       "  <thead>\n",
       "    <tr style=\"text-align: right;\">\n",
       "      <th></th>\n",
       "      <th>name</th>\n",
       "      <th>issn_count</th>\n",
       "    </tr>\n",
       "  </thead>\n",
       "  <tbody>\n",
       "    <tr>\n",
       "      <th>983</th>\n",
       "      <td>Journal of vocational behavior.</td>\n",
       "      <td>2</td>\n",
       "    </tr>\n",
       "    <tr>\n",
       "      <th>984</th>\n",
       "      <td>Journal of vocational behavior (Print)</td>\n",
       "      <td>2</td>\n",
       "    </tr>\n",
       "    <tr>\n",
       "      <th>1213</th>\n",
       "      <td>Journal of American Concrete Institute.</td>\n",
       "      <td>1</td>\n",
       "    </tr>\n",
       "    <tr>\n",
       "      <th>1214</th>\n",
       "      <td>Journal of the American Concrete Institute</td>\n",
       "      <td>1</td>\n",
       "    </tr>\n",
       "    <tr>\n",
       "      <th>1317</th>\n",
       "      <td>Journal of the American Dental Hygienists' Ass...</td>\n",
       "      <td>1</td>\n",
       "    </tr>\n",
       "    <tr>\n",
       "      <th>...</th>\n",
       "      <td>...</td>\n",
       "      <td>...</td>\n",
       "    </tr>\n",
       "    <tr>\n",
       "      <th>2938472</th>\n",
       "      <td>Journal of surgical procedures and case reports</td>\n",
       "      <td>1</td>\n",
       "    </tr>\n",
       "    <tr>\n",
       "      <th>2938580</th>\n",
       "      <td>Journal of Epidermiological Society of Nigeria...</td>\n",
       "      <td>2</td>\n",
       "    </tr>\n",
       "    <tr>\n",
       "      <th>2938581</th>\n",
       "      <td>Journal of Epidermiological Society of Nigeria</td>\n",
       "      <td>2</td>\n",
       "    </tr>\n",
       "    <tr>\n",
       "      <th>2938795</th>\n",
       "      <td>Journal of Practicing Teachers</td>\n",
       "      <td>1</td>\n",
       "    </tr>\n",
       "    <tr>\n",
       "      <th>2938796</th>\n",
       "      <td>Journal of Practicing Teachers (Uyo. Online)</td>\n",
       "      <td>1</td>\n",
       "    </tr>\n",
       "  </tbody>\n",
       "</table>\n",
       "<p>40257 rows × 2 columns</p>\n",
       "</div>"
      ],
      "text/plain": [
       "                                                      name  issn_count\n",
       "983                        Journal of vocational behavior.           2\n",
       "984                 Journal of vocational behavior (Print)           2\n",
       "1213               Journal of American Concrete Institute.           1\n",
       "1214            Journal of the American Concrete Institute           1\n",
       "1317     Journal of the American Dental Hygienists' Ass...           1\n",
       "...                                                    ...         ...\n",
       "2938472    Journal of surgical procedures and case reports           1\n",
       "2938580  Journal of Epidermiological Society of Nigeria...           2\n",
       "2938581     Journal of Epidermiological Society of Nigeria           2\n",
       "2938795                     Journal of Practicing Teachers           1\n",
       "2938796       Journal of Practicing Teachers (Uyo. Online)           1\n",
       "\n",
       "[40257 rows x 2 columns]"
      ]
     },
     "execution_count": 104,
     "metadata": {},
     "output_type": "execute_result"
    }
   ],
   "source": [
    "df[df.name.str.startswith(\"Journal of\")]"
   ]
  },
  {
   "cell_type": "code",
   "execution_count": null,
   "metadata": {},
   "outputs": [],
   "source": []
  }
 ],
 "metadata": {
  "kernelspec": {
   "display_name": "Python 3",
   "language": "python",
   "name": "python3"
  },
  "language_info": {
   "codemirror_mode": {
    "name": "ipython",
    "version": 3
   },
   "file_extension": ".py",
   "mimetype": "text/x-python",
   "name": "python",
   "nbconvert_exporter": "python",
   "pygments_lexer": "ipython3",
   "version": "3.7.8"
  }
 },
 "nbformat": 4,
 "nbformat_minor": 4
}
